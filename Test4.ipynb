{
 "cells": [
  {
   "cell_type": "code",
   "execution_count": 1,
   "metadata": {},
   "outputs": [],
   "source": [
    "# Importing packages needed to access and authenticate Youtube Data API\n",
    "\n",
    "from googleapiclient.discovery import build\n",
    "from google_auth_oauthlib.flow import InstalledAppFlow\n",
    "from google.auth.transport.requests import Request\n",
    "\n",
    "import urllib.request\n",
    "\n",
    "import urllib.parse as p\n",
    "import re\n",
    "import os\n",
    "import pickle\n",
    "\n",
    "SCOPES = [\"https://www.googleapis.com/auth/youtube.force-ssl\"]"
   ]
  },
  {
   "cell_type": "code",
   "execution_count": 2,
   "metadata": {},
   "outputs": [
    {
     "name": "stdout",
     "output_type": "stream",
     "text": [
      "Collecting google-api-python-client\n",
      "  Downloading google_api_python_client-2.83.0-py2.py3-none-any.whl (11.2 MB)\n",
      "     -------------------------------------- 11.2/11.2 MB 107.8 kB/s eta 0:00:00\n",
      "Collecting google-auth-httplib2\n",
      "  Using cached google_auth_httplib2-0.1.0-py2.py3-none-any.whl (9.3 kB)\n",
      "Collecting google-auth-oauthlib==0.4.6\n",
      "  Using cached google_auth_oauthlib-0.4.6-py2.py3-none-any.whl (18 kB)\n",
      "Collecting google-auth>=1.0.0\n",
      "  Downloading google_auth-2.17.1-py2.py3-none-any.whl (178 kB)\n",
      "     ------------------------------------ 178.1/178.1 kB 136.1 kB/s eta 0:00:00\n",
      "Collecting requests-oauthlib>=0.7.0\n",
      "  Using cached requests_oauthlib-1.3.1-py2.py3-none-any.whl (23 kB)\n",
      "Collecting uritemplate<5,>=3.0.1\n",
      "  Using cached uritemplate-4.1.1-py2.py3-none-any.whl (10 kB)\n",
      "Collecting google-api-core!=2.0.*,!=2.1.*,!=2.2.*,!=2.3.0,<3.0.0dev,>=1.31.5\n",
      "  Using cached google_api_core-2.11.0-py3-none-any.whl (120 kB)\n",
      "Collecting httplib2<1dev,>=0.15.0\n",
      "  Downloading httplib2-0.22.0-py3-none-any.whl (96 kB)\n",
      "     --------------------------------------- 96.9/96.9 kB 93.9 kB/s eta 0:00:00\n",
      "Requirement already satisfied: six in c:\\users\\prakh\\anaconda3\\lib\\site-packages (from google-auth-httplib2) (1.16.0)\n",
      "Requirement already satisfied: requests<3.0.0dev,>=2.18.0 in c:\\users\\prakh\\anaconda3\\lib\\site-packages (from google-api-core!=2.0.*,!=2.1.*,!=2.2.*,!=2.3.0,<3.0.0dev,>=1.31.5->google-api-python-client) (2.28.1)\n",
      "Collecting googleapis-common-protos<2.0dev,>=1.56.2\n",
      "  Downloading googleapis_common_protos-1.59.0-py2.py3-none-any.whl (223 kB)\n",
      "     ------------------------------------ 223.6/223.6 kB 115.7 kB/s eta 0:00:00\n",
      "Collecting protobuf!=3.20.0,!=3.20.1,!=4.21.0,!=4.21.1,!=4.21.2,!=4.21.3,!=4.21.4,!=4.21.5,<5.0.0dev,>=3.19.5\n",
      "  Downloading protobuf-4.22.1-cp39-cp39-win_amd64.whl (420 kB)\n",
      "     ------------------------------------ 420.6/420.6 kB 128.1 kB/s eta 0:00:00\n",
      "Collecting rsa<5,>=3.1.4\n",
      "  Using cached rsa-4.9-py3-none-any.whl (34 kB)\n",
      "Requirement already satisfied: pyasn1-modules>=0.2.1 in c:\\users\\prakh\\anaconda3\\lib\\site-packages (from google-auth>=1.0.0->google-auth-oauthlib==0.4.6) (0.2.8)\n",
      "Collecting cachetools<6.0,>=2.0.0\n",
      "  Downloading cachetools-5.3.0-py3-none-any.whl (9.3 kB)\n",
      "Requirement already satisfied: pyparsing!=3.0.0,!=3.0.1,!=3.0.2,!=3.0.3,<4,>=2.4.2 in c:\\users\\prakh\\anaconda3\\lib\\site-packages (from httplib2<1dev,>=0.15.0->google-api-python-client) (3.0.9)\n",
      "Collecting oauthlib>=3.0.0\n",
      "  Using cached oauthlib-3.2.2-py3-none-any.whl (151 kB)\n",
      "Requirement already satisfied: pyasn1<0.5.0,>=0.4.6 in c:\\users\\prakh\\anaconda3\\lib\\site-packages (from pyasn1-modules>=0.2.1->google-auth>=1.0.0->google-auth-oauthlib==0.4.6) (0.4.8)\n",
      "Requirement already satisfied: charset-normalizer<3,>=2 in c:\\users\\prakh\\anaconda3\\lib\\site-packages (from requests<3.0.0dev,>=2.18.0->google-api-core!=2.0.*,!=2.1.*,!=2.2.*,!=2.3.0,<3.0.0dev,>=1.31.5->google-api-python-client) (2.0.4)\n",
      "Requirement already satisfied: certifi>=2017.4.17 in c:\\users\\prakh\\anaconda3\\lib\\site-packages (from requests<3.0.0dev,>=2.18.0->google-api-core!=2.0.*,!=2.1.*,!=2.2.*,!=2.3.0,<3.0.0dev,>=1.31.5->google-api-python-client) (2022.9.14)\n",
      "Requirement already satisfied: idna<4,>=2.5 in c:\\users\\prakh\\anaconda3\\lib\\site-packages (from requests<3.0.0dev,>=2.18.0->google-api-core!=2.0.*,!=2.1.*,!=2.2.*,!=2.3.0,<3.0.0dev,>=1.31.5->google-api-python-client) (3.3)\n",
      "Requirement already satisfied: urllib3<1.27,>=1.21.1 in c:\\users\\prakh\\anaconda3\\lib\\site-packages (from requests<3.0.0dev,>=2.18.0->google-api-core!=2.0.*,!=2.1.*,!=2.2.*,!=2.3.0,<3.0.0dev,>=1.31.5->google-api-python-client) (1.26.11)\n",
      "Installing collected packages: uritemplate, rsa, protobuf, oauthlib, httplib2, cachetools, requests-oauthlib, googleapis-common-protos, google-auth, google-auth-oauthlib, google-auth-httplib2, google-api-core, google-api-python-client\n",
      "Successfully installed cachetools-5.3.0 google-api-core-2.11.0 google-api-python-client-2.83.0 google-auth-2.17.1 google-auth-httplib2-0.1.0 google-auth-oauthlib-0.4.6 googleapis-common-protos-1.59.0 httplib2-0.22.0 oauthlib-3.2.2 protobuf-4.22.1 requests-oauthlib-1.3.1 rsa-4.9 uritemplate-4.1.1\n"
     ]
    }
   ],
   "source": [
    "#!pip install --upgrade google-api-python-client google-auth-httplib2 google-auth-oauthlib==0.4.6"
   ]
  },
  {
   "cell_type": "code",
   "execution_count": 2,
   "metadata": {},
   "outputs": [],
   "source": [
    "# The following function is used to authenticate with the google cloud and gain permission and access\n",
    "# to the Youtube DATA API\n",
    "\n",
    "def youtube_authenticate():\n",
    "    os.environ[\"OAUTHLIB_INSECURE_TRANSPORT\"] = \"1\"\n",
    "    api_service = \"youtube\"\n",
    "    api_version = \"v3\"\n",
    "    client_secrets_file = \"YT_API_Credentials.json\"\n",
    "    creds = None\n",
    "    \n",
    "    # A file named token.pickle shall be automatically created in the folder which stores the user's access and refresh \n",
    "    # tokens created automatically when the authorization flow completes for the first time\n",
    "    if os.path.exists(\"token.pickle\"):\n",
    "        with open(\"token.pickle\", \"rb\") as token:\n",
    "            creds = pickle.load(token)\n",
    "    \n",
    "    # If there are no (valid) credentials available, allow the user to log in.\n",
    "    if not creds or not creds.valid:\n",
    "        if creds and creds.expired and creds.refresh_token:\n",
    "            creds.refresh(Request())\n",
    "        else:\n",
    "            flow = InstalledAppFlow.from_client_secrets_file(client_secrets_file, SCOPES)\n",
    "            creds = flow.run_local_server(port=0)\n",
    "        # save the credentials for the next run\n",
    "        with open(\"token.pickle\", \"wb\") as token:\n",
    "            pickle.dump(creds, token)\n",
    "\n",
    "    return build(api_service, api_version, credentials=creds)\n",
    "\n",
    "# Authenticate with YouTube API\n",
    "youtube = youtube_authenticate()"
   ]
  },
  {
   "cell_type": "code",
   "execution_count": 4,
   "metadata": {},
   "outputs": [],
   "source": [
    "# The following function will help us extract the youtube video ID from the video URL\n",
    "\n",
    "def get_video_id_by_url(url):\n",
    "    \"\"\"\n",
    "    Return the Video ID from the video `url`\n",
    "    \"\"\"\n",
    "    # split URL parts\n",
    "    parsed_url = p.urlparse(url)\n",
    "    # get the video ID by parsing the query of the URL\n",
    "    video_id = p.parse_qs(parsed_url.query).get(\"v\")\n",
    "    if video_id:\n",
    "        return video_id[0]\n",
    "    else:\n",
    "        raise Exception(f\"Unable to parse video URL: {url}\")"
   ]
  },
  {
   "cell_type": "code",
   "execution_count": 5,
   "metadata": {},
   "outputs": [],
   "source": [
    "# The below function recieves a YouTube service object (returned from youtube_authenticate() function) \n",
    "# and a keyword argument accepted by the API. It then returns the API response for a specific video\n",
    "def get_video_details(youtube, **kwargs):\n",
    "    return youtube.videos().list(\n",
    "        part=\"snippet,contentDetails,statistics\",\n",
    "        **kwargs\n",
    "    ).execute()"
   ]
  },
  {
   "cell_type": "code",
   "execution_count": 6,
   "metadata": {},
   "outputs": [],
   "source": [
    "# A function that takes a response returned from the above get_video_details() function\n",
    "# and returns the video title\n",
    "def get_video_title(video_response):\n",
    "    items = video_response.get(\"items\")[0]\n",
    "    snippet = items[\"snippet\"]\n",
    "    #title         = snippet[\"title\"]\n",
    "\n",
    "    # Replace '|' with '-' to prevent errors in saving files\n",
    "    #title         = snippet[\"title\"].replace(\"|\",\"-\")\n",
    "    title = [idx for idx in snippet[\"title\"].replace(\"|\",\"-\") if not re.findall(\"[^\\u0000-\\u05C0\\u2100-\\u214F]+\", idx)]\n",
    "    title1 = ''.join(title).replace(\"/\", \"\")\n",
    "    title1 = title1.replace(\"?\", \"\")\n",
    "    title1 = title1.replace('\"', '')\n",
    "    title1 = title1.replace(':', '')\n",
    "    return title1"
   ]
  },
  {
   "cell_type": "code",
   "execution_count": 7,
   "metadata": {},
   "outputs": [],
   "source": [
    "# A function that takes a response returned from the above get_video_details() function\n",
    "# and returns the channel title\n",
    "def get_channel_title(video_response):\n",
    "    items = video_response.get(\"items\")[0]\n",
    "    snippet = items[\"snippet\"]\n",
    "    \n",
    "    channel_title = snippet[\"channelTitle\"]\n",
    "    return channel_title"
   ]
  },
  {
   "cell_type": "code",
   "execution_count": 8,
   "metadata": {},
   "outputs": [],
   "source": [
    "# A function that takes a response returned from the above get_video_details() function\n",
    "# and returns the video description\n",
    "def get_description(video_response):\n",
    "    items = video_response.get(\"items\")[0]\n",
    "    snippet = items[\"snippet\"]\n",
    "    \n",
    "    description   = snippet[\"description\"]\n",
    "    return description"
   ]
  },
  {
   "cell_type": "code",
   "execution_count": 9,
   "metadata": {},
   "outputs": [],
   "source": [
    "# A function that takes a response returned from the above get_video_details() function\n",
    "# and returns the number of comments on the video\n",
    "def get_comment_count(video_response):\n",
    "    items = video_response.get(\"items\")[0]\n",
    "    statistics = items[\"statistics\"]\n",
    "    \n",
    "    comment_count = statistics[\"commentCount\"]\n",
    "    return comment_count"
   ]
  },
  {
   "cell_type": "code",
   "execution_count": 10,
   "metadata": {},
   "outputs": [],
   "source": [
    "# A function that takes a response returned from the above get_video_details() function\n",
    "# and returns the number of views the video has\n",
    "def get_view_count(video_response):\n",
    "    items = video_response.get(\"items\")[0]\n",
    "    statistics = items[\"statistics\"]\n",
    "    \n",
    "    view_count = statistics[\"viewCount\"]\n",
    "    return view_count"
   ]
  },
  {
   "cell_type": "code",
   "execution_count": 11,
   "metadata": {},
   "outputs": [],
   "source": [
    "# A function that takes a response returned from the above get_video_details() function\n",
    "# and returns the duration of the video\n",
    "def get_duration(video_response):\n",
    "    items = video_response.get(\"items\")[0]\n",
    "    content_details = items[\"contentDetails\"]\n",
    "\n",
    "    duration = content_details[\"duration\"]\n",
    "    # Duration provided by API has a format similar to - 'PT5H50M15S'\n",
    "    \n",
    "    # Parsing it below to convert it into a format similar to - '5:50:15'\n",
    "    parsed_duration = re.search(f\"PT(\\d+H)?(\\d+M)?(\\d+S)\", duration).groups()\n",
    "    duration_str = \"\"\n",
    "    for d in parsed_duration:\n",
    "        if d:\n",
    "            duration_str += f\"{d[:-1]}:\"\n",
    "    duration_str = duration_str.strip(\":\")\n",
    "    \n",
    "    return duration_str"
   ]
  },
  {
   "cell_type": "code",
   "execution_count": 12,
   "metadata": {},
   "outputs": [],
   "source": [
    "# Code to scrape video urls from youtube trending page to be added here. \n",
    "# Depending on Google Vision API, either all trending videos shall be extracted together\n",
    "# Or trending videos shall be extracted for each category seperately\n",
    "# These scraped urls can be used using the code blocks below to get video details and thumbnails\n",
    "\n",
    "web_page_url = 'https://www.youtube.com/feed/trending'\n",
    "\n",
    "fid = urllib.request.urlopen(web_page_url)\n",
    "\n",
    "webpage=fid.read().decode('utf-8')\n",
    "\n",
    "# This shall contain all urls for trending videos\n",
    "url_df = []\n",
    "\n",
    "for line in webpage.split('\"'):\n",
    "    if '/watch?v' in line:\n",
    "        if len(line) ==20:\n",
    "            url_df.append(\"https://www.youtube.com\"+line)"
   ]
  },
  {
   "cell_type": "code",
   "execution_count": 13,
   "metadata": {},
   "outputs": [
    {
     "name": "stdout",
     "output_type": "stream",
     "text": [
      "Image sucessfully Downloaded:  thumbnail_data/0-JR PASS GUIDE & UPDATES! March 2023.jpg\n",
      "Image sucessfully Downloaded:  thumbnail_data/1-TOP NEW HIDDEN PLACES IN TOKYO 2023! (part 2).jpg\n",
      "Image sucessfully Downloaded:  thumbnail_data/2-JAPAN TRAVEL UPDATE 2023 MARCH & New places in TOKYO.jpg\n",
      "Image sucessfully Downloaded:  thumbnail_data/3-I Got Attacked By A Heavyweight Champion.jpg\n",
      "Image sucessfully Downloaded:  thumbnail_data/4-SORRY NOT SORRY.jpg\n",
      "Image sucessfully Downloaded:  thumbnail_data/5-The Legend of Zelda: Tears of the Kingdom  Mr. Aonuma Gameplay Demonstration.jpg\n",
      "Image sucessfully Downloaded:  thumbnail_data/6-Ponniyin Selvan Part-2 Trailer | Tamil | Mani Ratnam | AR Rahman |Subaskaran |Madras Talkies |Lyca.jpg\n",
      "Image sucessfully Downloaded:  thumbnail_data/7-F1 Car vs Outback | Daniel Ricciardo's Great Aussie Road Trip.jpg\n",
      "Image sucessfully Downloaded:  thumbnail_data/8-JISOO - (FLOWER) MV TEASER.jpg\n",
      "Image sucessfully Downloaded:  thumbnail_data/9-Russia is getting hammered: Top US general on Bakhmut battle.jpg\n",
      "Image sucessfully Downloaded:  thumbnail_data/10-Breath of the Wild but its Absolutely Too Hard.jpg\n",
      "Image sucessfully Downloaded:  thumbnail_data/11-WILL THIS DRIFT TRIKE WORK ON GRASS??.jpg\n",
      "Image sucessfully Downloaded:  thumbnail_data/12-American PENALTY CHALLENGE with Wrexham Goalkeeper, Chris MD & TBJZL.jpg\n",
      "Image sucessfully Downloaded:  thumbnail_data/13-The 046 - KEEP UP (Prod. Sefru) [MUSIC VIDEO].jpg\n",
      "Image sucessfully Downloaded:  thumbnail_data/14-Casually Explained: Rock Climbing.jpg\n",
      "Image sucessfully Downloaded:  thumbnail_data/15-Metallica: 72 Seasons (Official Music Video).jpg\n",
      "Image sucessfully Downloaded:  thumbnail_data/16-Extreme Water Catching Battle! 150ft Car Drop Vs. Pool.jpg\n",
      "Image sucessfully Downloaded:  thumbnail_data/17-IVE  'Kitsch' MV.jpg\n",
      "Image sucessfully Downloaded:  thumbnail_data/18-OFFLINETV WAREHOUSE HIDE AND SEEK VS QUACKITY.jpg\n",
      "Image sucessfully Downloaded:  thumbnail_data/19-HIGHLIGHTS | Chelsea vs. Olympique Lyonnais (UEFA Women's Champions League 2022-23).jpg\n",
      "Image sucessfully Downloaded:  thumbnail_data/20-The Business Behind Kurzgesagt.jpg\n",
      "Image sucessfully Downloaded:  thumbnail_data/21-LACKADAISY (Pilot).jpg\n",
      "Image sucessfully Downloaded:  thumbnail_data/22-Melanie Martinez - VOID (Official Audio).jpg\n",
      "Image sucessfully Downloaded:  thumbnail_data/23-The Most Satisfying Video in Among Us.jpg\n",
      "Image sucessfully Downloaded:  thumbnail_data/24-Landcruisers VS Balfour track.jpg\n",
      "Image sucessfully Downloaded:  thumbnail_data/25-DOGTOOTH.jpg\n",
      "Image sucessfully Downloaded:  thumbnail_data/26-Game Theory: FNAF, A Family REBUILT (Ultimate Timeline Finale).jpg\n",
      "Image sucessfully Downloaded:  thumbnail_data/27-Asteroid City - Official Trailer - Only In Theaters June 16.jpg\n",
      "Image sucessfully Downloaded:  thumbnail_data/28-I had My New Shop Sprayed with Hot Foam!! (Dream Shop Build).jpg\n",
      "Image sucessfully Downloaded:  thumbnail_data/29-Scotland 2-0 Spain | McTominay Scores Twice to Stun Spain! | Euro 2024 Qualifier Highlights.jpg\n",
      "Image sucessfully Downloaded:  thumbnail_data/30-The Most Haunted City in America (w Karl Jacobs & Foolish).jpg\n",
      "Image sucessfully Downloaded:  thumbnail_data/31-I made my viewers debate ridiculous questions.jpg\n",
      "Image sucessfully Downloaded:  thumbnail_data/32-F1 Car vs Supercar at Mount Panorama circuit in Bathurst .jpg\n",
      "Image sucessfully Downloaded:  thumbnail_data/33-I Survived 50 Hours in Complete Darkness.jpg\n",
      "Image sucessfully Downloaded:  thumbnail_data/34-Je Chhau Timi - Swoopna Suman x Samir Shrestha ( Official MV).jpg\n",
      "Image sucessfully Downloaded:  thumbnail_data/35- 300 SERIES LANDCRUISER: Beach Testing vs LC200 & Patrol! .jpg\n",
      "Image sucessfully Downloaded:  thumbnail_data/36-NEW Lamborghini Revuelto: 1,000bhp V12 Hybrid Aventador Successor | Top Gear.jpg\n",
      "Image sucessfully Downloaded:  thumbnail_data/37-Great Ocean Road.jpg\n",
      "Image sucessfully Downloaded:  thumbnail_data/38-Elemental | Official Trailer.jpg\n",
      "Image sucessfully Downloaded:  thumbnail_data/39-'The wife is going to be happy': $240k gold nugget found in Victoria | 9 News Australia.jpg\n",
      "Image sucessfully Downloaded:  thumbnail_data/40-JPEGMAFIA x Danny Brown - Scaring the Hoes ALBUM REVIEW.jpg\n",
      "Image sucessfully Downloaded:  thumbnail_data/41-CHARLIE PUTH - THAT'S NOT HOW THIS WORKS (short film).jpg\n",
      "Image sucessfully Downloaded:  thumbnail_data/42-The Coolest ''''Country''''' Flag You Need To Know.jpg\n",
      "Image sucessfully Downloaded:  thumbnail_data/43-Kevin Hart and Logan Paul Compare Pokemon Chain Necklaces | Cold as Balls | Laugh Out Loud Network.jpg\n",
      "Image sucessfully Downloaded:  thumbnail_data/44-HIGHLIGHTS | Arsenal vs. Bayern Munich (UEFA Women's Champions League 2022-23).jpg\n",
      "Image sucessfully Downloaded:  thumbnail_data/45-Binging with Babish: Duck Fat Fries from John Wick: Chapter 2.jpg\n",
      "Image sucessfully Downloaded:  thumbnail_data/46-What Things Used To Cost.jpg\n",
      "Image sucessfully Downloaded:  thumbnail_data/47-Gus tells rugby-bound Suaalii to 'go now' | Wide World of Sports.jpg\n",
      "Image sucessfully Downloaded:  thumbnail_data/48-Opening BEN 10 POKÉMON PACKS to get GOD POKÉMON in MINECRAFT!.jpg\n",
      "Image sucessfully Downloaded:  thumbnail_data/49-AI is Evolving Faster Than You Think [GPT-4 and beyond].jpg\n",
      "Image sucessfully Downloaded:  thumbnail_data/50-Minecraft Hostage Simulator.jpg\n",
      "Image sucessfully Downloaded:  thumbnail_data/51-Ren - Illest Of Our Time.jpg\n",
      "Image sucessfully Downloaded:  thumbnail_data/52-VIRAL TIKTOKS that are actually good.jpg\n",
      "Image sucessfully Downloaded:  thumbnail_data/53-I Paid A Real Assassin To Try To Kill Me.jpg\n",
      "Image sucessfully Downloaded:  thumbnail_data/54-SORRY NOT SORRY.jpg\n",
      "Image sucessfully Downloaded:  thumbnail_data/55-The Legend of Zelda: Tears of the Kingdom  Mr. Aonuma Gameplay Demonstration.jpg\n",
      "Image sucessfully Downloaded:  thumbnail_data/56-IVE  'Kitsch' MV.jpg\n",
      "Image sucessfully Downloaded:  thumbnail_data/57-JISOO - (FLOWER) MV TEASER.jpg\n",
      "Image sucessfully Downloaded:  thumbnail_data/58-Game Theory: FNAF, A Family REBUILT (Ultimate Timeline Finale).jpg\n",
      "Image sucessfully Downloaded:  thumbnail_data/59- (Jimin) 'Like Crazy' Official MV.jpg\n",
      "Image sucessfully Downloaded:  thumbnail_data/60-The Most Haunted City in America (w Karl Jacobs & Foolish).jpg\n",
      "Image sucessfully Downloaded:  thumbnail_data/61-My Channel Was Deleted Last Night.jpg\n",
      "Image sucessfully Downloaded:  thumbnail_data/62-Ed Sheeran - Eyes Closed [Official Video].jpg\n",
      "Image sucessfully Downloaded:  thumbnail_data/63-Amazing Invention- This Drone Will Change Everything.jpg\n",
      "Image sucessfully Downloaded:  thumbnail_data/64-Minecraft Hostage Simulator.jpg\n",
      "Image sucessfully Downloaded:  thumbnail_data/65-VIRAL TIKTOKS that are actually good.jpg\n",
      "Image sucessfully Downloaded:  thumbnail_data/66-Melanie Martinez - DEATH (Official Music Video).jpg\n",
      "Image sucessfully Downloaded:  thumbnail_data/67-DOGTOOTH.jpg\n",
      "Image sucessfully Downloaded:  thumbnail_data/68-$1 vs $1,000,000 Plane Ticket!.jpg\n",
      "Image sucessfully Downloaded:  thumbnail_data/69-Ponniyin Selvan Part-2 Trailer | Tamil | Mani Ratnam | AR Rahman |Subaskaran |Madras Talkies |Lyca.jpg\n",
      "Image sucessfully Downloaded:  thumbnail_data/70- 300 SERIES LANDCRUISER: Beach Testing vs LC200 & Patrol! .jpg\n",
      "Image sucessfully Downloaded:  thumbnail_data/71-Is the Navy ready? How the U.S. is preparing amid a naval buildup in China | 60 Minutes.jpg\n",
      "Image sucessfully Downloaded:  thumbnail_data/72-Russia is getting hammered: Top US general on Bakhmut battle.jpg\n",
      "Image sucessfully Downloaded:  thumbnail_data/73-Farming 10,000,000 Melons in Minecraft.jpg\n",
      "Image sucessfully Downloaded:  thumbnail_data/74- (Jimin) 'Set Me Free Pt.2' Official MV.jpg\n",
      "Image sucessfully Downloaded:  thumbnail_data/75-The Business Behind Kurzgesagt.jpg\n",
      "Image sucessfully Downloaded:  thumbnail_data/76-Deep Sea Fishing Challenge (Catch And Cook).jpg\n",
      "Image sucessfully Downloaded:  thumbnail_data/77-'The wife is going to be happy': $240k gold nugget found in Victoria | 9 News Australia.jpg\n",
      "Image sucessfully Downloaded:  thumbnail_data/78-The Most Insane Show I've Ever Seen.jpg\n",
      "Image sucessfully Downloaded:  thumbnail_data/79-I tried FAILED LEGO KNOCKOFFS....jpg\n",
      "Image sucessfully Downloaded:  thumbnail_data/80-Casually Explained: Rock Climbing.jpg\n",
      "Image sucessfully Downloaded:  thumbnail_data/81-F1 Car vs Supercar at Mount Panorama circuit in Bathurst .jpg\n",
      "Image sucessfully Downloaded:  thumbnail_data/82-Miley Cyrus - Flowers (Backyard Sessions).jpg\n",
      "Image sucessfully Downloaded:  thumbnail_data/83-Adam Sandler Acceptance Speech | 2023 Mark Twain Prize.jpg\n",
      "Image sucessfully Downloaded:  thumbnail_data/84-Breath of the Wild but its Absolutely Too Hard.jpg\n",
      "Image sucessfully Downloaded:  thumbnail_data/85-DRIVELINE EXPLOSION, Roll Over and Sooty panel damage... Who got towed out? .jpg\n",
      "Image sucessfully Downloaded:  thumbnail_data/86-Gus tells rugby-bound Suaalii to 'go now' | Wide World of Sports.jpg\n",
      "Image sucessfully Downloaded:  thumbnail_data/87-We Survived on MREs for a Day.jpg\n",
      "Image sucessfully Downloaded:  thumbnail_data/88-Elite police raid Hells Angels bikie club houses | A Current Affair.jpg\n",
      "Image sucessfully Downloaded:  thumbnail_data/89-I Trapped 25 TikTokers In A Box.jpg\n",
      "Image sucessfully Downloaded:  thumbnail_data/90-Chica.jpg\n",
      "Image sucessfully Downloaded:  thumbnail_data/91-How Quantum Computers Break The Internet... Starting Now.jpg\n",
      "Image sucessfully Downloaded:  thumbnail_data/92-Paris Paloma - labour [Official Video].jpg\n",
      "Image sucessfully Downloaded:  thumbnail_data/93-Uncle Roger RECREATE JAMIE OLIVER RAMEN.jpg\n",
      "Image sucessfully Downloaded:  thumbnail_data/94-Flowers.jpg\n",
      "Image sucessfully Downloaded:  thumbnail_data/95-Adam Sandler: The 60 Minutes Interview.jpg\n",
      "Image sucessfully Downloaded:  thumbnail_data/96-OFFLINETV WAREHOUSE HIDE AND SEEK VS QUACKITY.jpg\n",
      "Image sucessfully Downloaded:  thumbnail_data/97-Scotland 2-0 Spain | McTominay Scores Twice to Stun Spain! | Euro 2024 Qualifier Highlights.jpg\n",
      "Image sucessfully Downloaded:  thumbnail_data/98-AI is Evolving Faster Than You Think [GPT-4 and beyond].jpg\n",
      "Image sucessfully Downloaded:  thumbnail_data/99-Landcruisers VS Balfour track.jpg\n"
     ]
    }
   ],
   "source": [
    "# Code segment to download video thumbnail\n",
    "\n",
    "import requests # Used to request image from the website\n",
    "import shutil # Used to save image locally\n",
    "import os\n",
    "\n",
    "if not os.path.exists(\"thumbnail_data\"):\n",
    "    os.makedirs(\"thumbnail_data\")\n",
    "\n",
    "# Set the https format for youtube thumbnails\n",
    "thumb_address = \"https://img.youtube.com/vi/\"\n",
    "thumb_format = \"/0.jpg\"\n",
    "\n",
    "# Next step - get website links from url_df and loop the following code. Maybe make use of multi threading for downloads\n",
    "jj=0\n",
    "for i in url_df:\n",
    "    video_url = i\n",
    "    # parse video ID from URL\n",
    "    video_id = get_video_id_by_url(video_url)\n",
    "    # make API call to get video info\n",
    "    response = get_video_details(youtube, id=video_id)\n",
    "\n",
    "    thumbnail_url = thumb_address+video_id+thumb_format\n",
    "\n",
    "    video_title = get_video_title(response)\n",
    "    file_name = 'thumbnail_data/{}-{}.jpg'.format(jj, video_title)\n",
    "    res = requests.get(thumbnail_url, stream = True)\n",
    "\n",
    "    if res.status_code == 200:\n",
    "        with open(file_name,'wb') as f:\n",
    "            shutil.copyfileobj(res.raw, f)\n",
    "        print('Image sucessfully Downloaded: ',file_name.format())\n",
    "    else:\n",
    "        print('Image could not be Downloaded')\n",
    "    \n",
    "    jj=jj+1"
   ]
  },
  {
   "cell_type": "code",
   "execution_count": 4,
   "metadata": {},
   "outputs": [
    {
     "data": {
      "text/plain": [
       "96"
      ]
     },
     "execution_count": 4,
     "metadata": {},
     "output_type": "execute_result"
    }
   ],
   "source": [
    "list1 = [i for i in range(96)]\n",
    "len(list1)"
   ]
  },
  {
   "cell_type": "code",
   "execution_count": 5,
   "metadata": {},
   "outputs": [
    {
     "name": "stdout",
     "output_type": "stream",
     "text": [
      "96\n"
     ]
    }
   ],
   "source": [
    "jj1=0\n",
    "for i in list1:\n",
    "    jj1+=1\n",
    "print(jj1)"
   ]
  },
  {
   "cell_type": "code",
   "execution_count": 9,
   "metadata": {},
   "outputs": [
    {
     "name": "stdout",
     "output_type": "stream",
     "text": [
      "100.0\n"
     ]
    }
   ],
   "source": [
    "print((jj1*100)/96)"
   ]
  },
  {
   "cell_type": "code",
   "execution_count": null,
   "metadata": {},
   "outputs": [],
   "source": []
  }
 ],
 "metadata": {
  "kernelspec": {
   "display_name": "Python [conda env:tf]",
   "language": "python",
   "name": "conda-env-tf-py"
  },
  "language_info": {
   "codemirror_mode": {
    "name": "ipython",
    "version": 3
   },
   "file_extension": ".py",
   "mimetype": "text/x-python",
   "name": "python",
   "nbconvert_exporter": "python",
   "pygments_lexer": "ipython3",
   "version": "3.9.15"
  }
 },
 "nbformat": 4,
 "nbformat_minor": 4
}
