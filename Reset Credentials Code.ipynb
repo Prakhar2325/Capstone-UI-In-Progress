{
 "cells": [
  {
   "cell_type": "code",
   "execution_count": 2,
   "id": "94598cc4-e648-4e2a-a6e8-f231fecf1888",
   "metadata": {},
   "outputs": [],
   "source": [
    "# CODE TO RESET JSON FILES TO ORIGINAL\n",
    "import json\n",
    "\n",
    "users_dict = {'email':['prakharmishra2002@gmail.com','joshuabenzon@gmail.com','omsh97@gmail.com','bhavsh@gmail.com','dure0611@gmail.com','owensvin@gmail.com', 'gargi.asthana@gmail.com'], 'pwd':['admin','admin','admin','admin','admin','nub','nub'], 'username':['Prakhar Mishra','Joshua Benzon','Omkar Shitole','Bhavna Sharma','Duurenbat Batchuluun','Gavrielowens Vincentio','Gargi Asthana']}\n",
    "pwd_key = {'prakharmishra2002@gmail.com':'admin','joshuabenzon@gmail.com':'admin','omsh97@gmail.com':'admin','bhavsh@gmail.com':'admin','dure0611@gmail.com':'admin','owensvin@gmail.com':'nub','gargi.asthana@gmail.com':'nub'}\n",
    "\n",
    "usernames_key = {'prakharmishra2002@gmail.com':'Prakhar Mishra','joshuabenzon@gmail.com':'Joshua Benzon','omsh97@gmail.com':'Omkar Shitole','bhavsh@gmail.com':'Bhavna Sharma','dure0611@gmail.com':'Duurenbat Batchuluun','owensvin@gmail.com':'Gavrielowens Vincentio','gargi.asthana@gmail.com':'Gargi Asthana'}\n",
    "admins_list = ['Prakhar Mishra','Joshua Benzon','Omkar Shitole','Bhavna Sharma','Duurenbat Batchuluun']\n",
    "\n",
    "with open(\"users_dict.json\", \"w\") as outfile:\n",
    "    json.dump(users_dict, outfile)\n",
    "    \n",
    "with open(\"pwd_key.json\", \"w\") as outfile:\n",
    "    json.dump(pwd_key, outfile)\n",
    "\n",
    "with open(\"usernames_key.json\", \"w\") as outfile:\n",
    "    json.dump(usernames_key, outfile)"
   ]
  }
 ],
 "metadata": {
  "kernelspec": {
   "display_name": "Python [conda env:tf]",
   "language": "python",
   "name": "conda-env-tf-py"
  },
  "language_info": {
   "codemirror_mode": {
    "name": "ipython",
    "version": 3
   },
   "file_extension": ".py",
   "mimetype": "text/x-python",
   "name": "python",
   "nbconvert_exporter": "python",
   "pygments_lexer": "ipython3",
   "version": "3.9.15"
  }
 },
 "nbformat": 4,
 "nbformat_minor": 5
}
